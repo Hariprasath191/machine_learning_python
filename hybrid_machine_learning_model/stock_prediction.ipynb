{
 "cells": [
  {
   "cell_type": "code",
   "execution_count": 1,
   "id": "bdfb31d1",
   "metadata": {},
   "outputs": [
    {
     "name": "stdout",
     "output_type": "stream",
     "text": [
      "                        Date   Adj Close       Close        High         Low  \\\n",
      "0  2023-11-02 00:00:00+00:00  176.665985  177.570007  177.779999  175.460007   \n",
      "1  2023-11-03 00:00:00+00:00  175.750671  176.649994  176.820007  173.350006   \n",
      "2  2023-11-06 00:00:00+00:00  178.317520  179.229996  179.429993  176.210007   \n",
      "3  2023-11-07 00:00:00+00:00  180.894333  181.820007  182.440002  178.970001   \n",
      "4  2023-11-08 00:00:00+00:00  181.958893  182.889999  183.449997  181.589996   \n",
      "\n",
      "         Open    Volume  \n",
      "0  175.520004  77334800  \n",
      "1  174.240005  79763700  \n",
      "2  176.380005  63841300  \n",
      "3  179.179993  70530000  \n",
      "4  182.350006  49340300  \n"
     ]
    }
   ],
   "source": [
    "import pandas as pd\n",
    "data = pd.read_csv('apple_stock_data.csv')\n",
    "print(data.head())"
   ]
  }
 ],
 "metadata": {
  "kernelspec": {
   "display_name": ".venv",
   "language": "python",
   "name": "python3"
  },
  "language_info": {
   "codemirror_mode": {
    "name": "ipython",
    "version": 3
   },
   "file_extension": ".py",
   "mimetype": "text/x-python",
   "name": "python",
   "nbconvert_exporter": "python",
   "pygments_lexer": "ipython3",
   "version": "3.12.3"
  }
 },
 "nbformat": 4,
 "nbformat_minor": 5
}
